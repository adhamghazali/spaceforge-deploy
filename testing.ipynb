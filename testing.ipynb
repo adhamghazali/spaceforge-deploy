{
 "cells": [
  {
   "cell_type": "code",
   "execution_count": null,
   "id": "1b5c328f-1cf1-468a-84b2-67a4acd5d60b",
   "metadata": {},
   "outputs": [],
   "source": [
    "import spaceforge"
   ]
  },
  {
   "cell_type": "code",
   "execution_count": null,
   "id": "d5c69e6c-d42d-43b7-9cb0-11ac88dfc58d",
   "metadata": {},
   "outputs": [],
   "source": [
    "##Base64 to pil\n",
    "import base64\n",
    "from io import BytesIO\n",
    "from PIL import Image\n",
    " \n",
    "def base64_pil(base64_str):\n",
    "    image = base64.b64decode(base64_str)\n",
    "    image = BytesIO(image)\n",
    "    image = Image.open(image)\n",
    "    return image"
   ]
  },
  {
   "cell_type": "code",
   "execution_count": null,
   "id": "46ca4b2b-241f-4306-a685-b19f110f321e",
   "metadata": {},
   "outputs": [],
   "source": [
    "obj.infer(\" a 3D man with a 3D monster playing in a 3D world!!\")"
   ]
  },
  {
   "cell_type": "code",
   "execution_count": null,
   "id": "a645b496-8ca8-4936-be5f-23342ce368f0",
   "metadata": {},
   "outputs": [],
   "source": [
    "obj.create_variation(0.01,0.01)"
   ]
  },
  {
   "cell_type": "code",
   "execution_count": null,
   "id": "138eefa2-c28b-4215-94e2-37bd1b3a362b",
   "metadata": {},
   "outputs": [],
   "source": [
    "http://127.0.0.1:8000/"
   ]
  },
  {
   "cell_type": "code",
   "execution_count": null,
   "id": "bf5d331c-37a7-4903-8c84-fc42f7fdd268",
   "metadata": {},
   "outputs": [],
   "source": [
    "import requests\n",
    "data=''\n",
    "for i in requests.post(\"http://34.134.112.46:8000/?prompt='Dog walking on the sky'\"):\n",
    "    data=data+i.decode()\n",
    "base64_pil(data)"
   ]
  },
  {
   "cell_type": "code",
   "execution_count": null,
   "id": "040053f9-469b-4b95-a7c4-b5d70c9213a4",
   "metadata": {},
   "outputs": [],
   "source": [
    "img=base64_pil(data)"
   ]
  },
  {
   "cell_type": "code",
   "execution_count": null,
   "id": "9ff99bf3-e542-45a6-b00f-906daf35d6a6",
   "metadata": {},
   "outputs": [],
   "source": []
  },
  {
   "cell_type": "code",
   "execution_count": null,
   "id": "04eca6a5-7c76-442d-8fba-d573ac4fc50c",
   "metadata": {},
   "outputs": [],
   "source": [
    "img.save('monkey_in_space.png')"
   ]
  },
  {
   "cell_type": "code",
   "execution_count": null,
   "id": "bd7c7f01-b5fa-4977-a25e-381e20658f51",
   "metadata": {},
   "outputs": [],
   "source": [
    "class Prediction(APIView):\n",
    "         \n",
    "    def get(self, request):\n",
    "        variation=False\n",
    "        #data = request.data\n",
    "        prompt= request.GET.get('prompt')\n",
    "        \n",
    "        \n",
    "        \n",
    "        ## do the Generation\n",
    "        #Enode base64\n",
    "        return Response(encoded_image, status=200)\n",
    "        \n",
    "        "
   ]
  }
 ],
 "metadata": {
  "kernelspec": {
   "display_name": "Python 3 (ipykernel)",
   "language": "python",
   "name": "python3"
  },
  "language_info": {
   "codemirror_mode": {
    "name": "ipython",
    "version": 3
   },
   "file_extension": ".py",
   "mimetype": "text/x-python",
   "name": "python",
   "nbconvert_exporter": "python",
   "pygments_lexer": "ipython3",
   "version": "3.9.13"
  }
 },
 "nbformat": 4,
 "nbformat_minor": 5
}
